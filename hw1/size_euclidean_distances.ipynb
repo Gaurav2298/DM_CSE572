{
 "cells": [
  {
   "cell_type": "code",
   "execution_count": 4,
   "metadata": {},
   "outputs": [
    {
     "data": {
      "text/plain": [
       "{'Box 1 - Box 2': 1,\n",
       " 'Box 1 - Box 3': 16,\n",
       " 'Box 1 - Box 4': 7,\n",
       " 'Box 2 - Box 3': 17,\n",
       " 'Box 2 - Box 4': 8,\n",
       " 'Box 3 - Box 4': 9}"
      ]
     },
     "execution_count": 4,
     "metadata": {},
     "output_type": "execute_result"
    }
   ],
   "source": [
    "\n",
    "lengths = [2, 1, 6, 3]\n",
    "widths = [1, 1, 3, 3]\n",
    "# Calculate the areas of each box (length * width)\n",
    "areas = [l * w for l, w in zip(lengths, widths)]\n",
    "\n",
    "# Function to calculate Euclidean distance between two points in 1D (which is just the absolute difference)\n",
    "def euclidean_distance_1d_area(x1, x2):\n",
    "    return abs(x1 - x2)\n",
    "\n",
    "# Calculate the Euclidean distances between the areas of each pair of boxes\n",
    "area_euclidean_distances = {}\n",
    "for i in range(len(areas)):\n",
    "    for j in range(i+1, len(areas)):\n",
    "        # Create a unique key for each pair of boxes\n",
    "        key = f\"Box {i+1} - Box {j+1}\"\n",
    "        # Calculate the Euclidean distance and store it with the corresponding key\n",
    "        area_euclidean_distances[key] = euclidean_distance_1d_area(areas[i], areas[j])\n",
    "area_euclidean_distances\n",
    "# # Convert the distances to a list of tuples for sorting\n",
    "# sorted_area_distances = sorted(area_euclidean_distances.items(), key=lambda item: item[1])\n",
    "\n",
    "# sorted_area_distances\n",
    "\n"
   ]
  }
 ],
 "metadata": {
  "kernelspec": {
   "display_name": "Python 3",
   "language": "python",
   "name": "python3"
  },
  "language_info": {
   "codemirror_mode": {
    "name": "ipython",
    "version": 3
   },
   "file_extension": ".py",
   "mimetype": "text/x-python",
   "name": "python",
   "nbconvert_exporter": "python",
   "pygments_lexer": "ipython3",
   "version": "3.11.5"
  }
 },
 "nbformat": 4,
 "nbformat_minor": 2
}
