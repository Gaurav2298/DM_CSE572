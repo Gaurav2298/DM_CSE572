{
 "cells": [
  {
   "cell_type": "code",
   "execution_count": 1,
   "metadata": {},
   "outputs": [
    {
     "data": {
      "text/plain": [
       "array([[1.        , 0.80178373],\n",
       "       [0.80178373, 1.        ]])"
      ]
     },
     "execution_count": 1,
     "metadata": {},
     "output_type": "execute_result"
    }
   ],
   "source": [
    "import numpy as np\n",
    "\n",
    "# Given box vectors\n",
    "box_vectors = np.array([\n",
    "    [2, 1],  # top left box\n",
    "    [1, 1],  # top right box\n",
    "    [6, 3],  # bottom left box\n",
    "    [3, 3]   # bottom right box\n",
    "])\n",
    "\n",
    "# Computing the correlation matrix\n",
    "correlation_matrix = np.corrcoef(box_vectors, rowvar=False)\n",
    "correlation_matrix"
   ]
  },
  {
   "cell_type": "markdown",
   "metadata": {},
   "source": [
    "Correlation 0.80178373 shows strong correlation.\n",
    "We will consider the ratio of the boxes"
   ]
  },
  {
   "cell_type": "code",
   "execution_count": 3,
   "metadata": {},
   "outputs": [
    {
     "data": {
      "text/plain": [
       "[(array([2, 1]), 2.0),\n",
       " (array([1, 1]), 1.0),\n",
       " (array([6, 3]), 2.0),\n",
       " (array([3, 3]), 1.0)]"
      ]
     },
     "execution_count": 3,
     "metadata": {},
     "output_type": "execute_result"
    }
   ],
   "source": [
    "ratios = [box[0] / box[1] for box in box_vectors]\n",
    "box_ratios = list(zip(box_vectors, ratios))\n",
    "box_ratios"
   ]
  }
 ],
 "metadata": {
  "kernelspec": {
   "display_name": "Python 3",
   "language": "python",
   "name": "python3"
  },
  "language_info": {
   "codemirror_mode": {
    "name": "ipython",
    "version": 3
   },
   "file_extension": ".py",
   "mimetype": "text/x-python",
   "name": "python",
   "nbconvert_exporter": "python",
   "pygments_lexer": "ipython3",
   "version": "3.11.5"
  }
 },
 "nbformat": 4,
 "nbformat_minor": 2
}
