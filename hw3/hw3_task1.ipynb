{
 "cells": [
  {
   "cell_type": "markdown",
   "metadata": {},
   "source": [
    "**Task 1 Algorithmic Analysis K-Means Clustering with Real World Dataset**\n",
    "First, download a simulated dataset: kmeans_data.zip from Modules->Datasets. Then,\n",
    "implement the K-means algorithm from scratch. K-means algorithm computes the distance of a\n",
    "given data point pair. Replace the distance computation function with Euclidean distance, 1-\n",
    "Cosine similarity, and 1 – the Generalized Jaccard similarity (refer to:\n",
    "https://www.itl.nist.gov/div898/software/dataplot/refman2/auxillar/jaccard.htm).\n"
   ]
  },
  {
   "cell_type": "code",
   "execution_count": 1,
   "metadata": {},
   "outputs": [],
   "source": [
    "# import libraries\n",
    "\n",
    "import numpy as np\n",
    "from sklearn.metrics import pairwise_distances\n",
    "import pandas as pd"
   ]
  },
  {
   "cell_type": "code",
   "execution_count": 2,
   "metadata": {},
   "outputs": [],
   "source": [
    "data = pd.read_csv('./kmeans_data/data.csv')\n",
    "labels_data = pd.read_csv('./kmeans_data/label.csv')"
   ]
  },
  {
   "cell_type": "code",
   "execution_count": 3,
   "metadata": {},
   "outputs": [
    {
     "data": {
      "text/plain": [
       "<bound method NDFrame.head of       0  0.1  0.2  0.3  0.4  0.5  0.6  0.7  0.8  0.9  ...  0.658  0.659  \\\n",
       "0     0    0    0    0    0    0    0    0    0    0  ...      0      0   \n",
       "1     0    0    0    0    0    0    0    0    0    0  ...      0      0   \n",
       "2     0    0    0    0    0    0    0    0    0    0  ...      0      0   \n",
       "3     0    0    0    0    0    0    0    0    0    0  ...      0      0   \n",
       "4     0    0    0    0    0    0    0    0    0    0  ...      0      0   \n",
       "...  ..  ...  ...  ...  ...  ...  ...  ...  ...  ...  ...    ...    ...   \n",
       "9994  0    0    0    0    0    0    0    0    0    0  ...      0      0   \n",
       "9995  0    0    0    0    0    0    0    0    0    0  ...      0      0   \n",
       "9996  0    0    0    0    0    0    0    0    0    0  ...      0      0   \n",
       "9997  0    0    0    0    0    0    0    0    0    0  ...      0      0   \n",
       "9998  0    0    0    0    0    0    0    0    0    0  ...      0      0   \n",
       "\n",
       "      0.660  0.661  0.662  0.663  0.664  0.665  0.666  0.667  \n",
       "0         0      0      0      0      0      0      0      0  \n",
       "1         0      0      0      0      0      0      0      0  \n",
       "2         0      0      0      0      0      0      0      0  \n",
       "3         0      0      0      0      0      0      0      0  \n",
       "4         0      0      0      0      0      0      0      0  \n",
       "...     ...    ...    ...    ...    ...    ...    ...    ...  \n",
       "9994      0      0      0      0      0      0      0      0  \n",
       "9995      0      0      0      0      0      0      0      0  \n",
       "9996      0      0      0      0      0      0      0      0  \n",
       "9997      0      0      0      0      0      0      0      0  \n",
       "9998      0      0      0      0      0      0      0      0  \n",
       "\n",
       "[9999 rows x 784 columns]>"
      ]
     },
     "execution_count": 3,
     "metadata": {},
     "output_type": "execute_result"
    }
   ],
   "source": [
    "data.head"
   ]
  },
  {
   "cell_type": "code",
   "execution_count": 4,
   "metadata": {},
   "outputs": [
    {
     "data": {
      "text/plain": [
       "<bound method NDFrame.head of       7\n",
       "0     2\n",
       "1     1\n",
       "2     0\n",
       "3     4\n",
       "4     1\n",
       "...  ..\n",
       "9994  2\n",
       "9995  3\n",
       "9996  4\n",
       "9997  5\n",
       "9998  6\n",
       "\n",
       "[9999 rows x 1 columns]>"
      ]
     },
     "execution_count": 4,
     "metadata": {},
     "output_type": "execute_result"
    }
   ],
   "source": [
    "labels_data.head"
   ]
  },
  {
   "cell_type": "code",
   "execution_count": 5,
   "metadata": {},
   "outputs": [],
   "source": [
    "class KMeans:\n",
    "    def __init__(self, n_clusters, distance_metric='euclidean', max_iter=100):\n",
    "        self.n_clusters = n_clusters\n",
    "        self.distance_metric = distance_metric\n",
    "        self.max_iter = max_iter\n",
    "        self.centroids = None\n",
    "\n",
    "    def initialize_centroids(self, X):\n",
    "        np.random.seed(42)\n",
    "        # Convert to numpy\n",
    "        if isinstance(X, pd.DataFrame):\n",
    "            X = X.to_numpy()\n",
    "        random_indices = np.random.permutation(X.shape[0])[:self.n_clusters]\n",
    "        self.centroids = X[random_indices]\n",
    "\n",
    "    def compute_distance(self, X):\n",
    "        if self.distance_metric == 'euclidean':\n",
    "            return pairwise_distances(X, self.centroids, metric='euclidean')\n",
    "        elif self.distance_metric == 'cosine':\n",
    "            return 1 - pairwise_distances(X, self.centroids, metric='cosine')\n",
    "        elif self.distance_metric == 'jaccard':\n",
    "            # For Jaccard, handling the case where all features are zeros which can cause NaN distances\n",
    "            return 1 - pairwise_distances(np.maximum(X, 0), np.maximum(self.centroids, 0), metric='jaccard')\n",
    "\n",
    "    def assign_clusters(self, distances):\n",
    "        return np.argmin(distances, axis=1)\n",
    "\n",
    "    def update_centroids(self, X, labels):\n",
    "        new_centroids = np.zeros(self.centroids.shape)\n",
    "        for i in range(self.n_clusters):\n",
    "            if np.any(labels == i):\n",
    "                new_centroids[i] = X[labels == i].mean(axis=0)\n",
    "            else:\n",
    "                new_centroids[i] = self.centroids[i]  # Reuse the old centroid if no points are assigned\n",
    "        return new_centroids\n",
    "\n",
    "    def compute_sse(self, X, labels):\n",
    "        distances = np.min(self.compute_distance(X), axis=1)\n",
    "        return np.sum(distances**2)\n",
    "\n",
    "    def fit(self, X):\n",
    "        if isinstance(X, pd.DataFrame):\n",
    "            X = X.to_numpy()\n",
    "        self.initialize_centroids(X)\n",
    "        for _ in range(self.max_iter):\n",
    "            distances = self.compute_distance(X)\n",
    "            labels = self.assign_clusters(distances)\n",
    "            new_centroids = self.update_centroids(X, labels)\n",
    "\n",
    "            if np.allclose(self.centroids, new_centroids, atol=1e-4):\n",
    "                break\n",
    "            self.centroids = new_centroids\n",
    "\n",
    "        return labels, self.compute_sse(X, labels)"
   ]
  },
  {
   "cell_type": "code",
   "execution_count": 6,
   "metadata": {},
   "outputs": [
    {
     "name": "stdout",
     "output_type": "stream",
     "text": [
      "10\n"
     ]
    }
   ],
   "source": [
    "n_clusters = len(np.unique(labels_data))\n",
    "print(n_clusters)"
   ]
  },
  {
   "cell_type": "markdown",
   "metadata": {},
   "source": [
    "**Q1. Run K-means clustering with Euclidean, Cosine and Jaccard similarity. Specify K= the\n",
    "number of categorical values of y (the number of classifications). Compare the SSEs of\n",
    "Euclidean-K-means, Cosine-K-means, Jaccard-K-means. Which method is better?**"
   ]
  },
  {
   "cell_type": "code",
   "execution_count": 7,
   "metadata": {},
   "outputs": [
    {
     "name": "stdout",
     "output_type": "stream",
     "text": [
      "[2 3 9 ... 4 8 7]\n",
      "[2 2 3 ... 7 2 2]\n"
     ]
    },
    {
     "name": "stderr",
     "output_type": "stream",
     "text": [
      "/Users/gaurav/projects/DM/DM_CSE572/hw3/hw3/lib/python3.10/site-packages/sklearn/metrics/pairwise.py:2317: DataConversionWarning: Data was converted to boolean for metric jaccard\n",
      "  warnings.warn(msg, DataConversionWarning)\n",
      "/Users/gaurav/projects/DM/DM_CSE572/hw3/hw3/lib/python3.10/site-packages/sklearn/metrics/pairwise.py:2317: DataConversionWarning: Data was converted to boolean for metric jaccard\n",
      "  warnings.warn(msg, DataConversionWarning)\n",
      "/Users/gaurav/projects/DM/DM_CSE572/hw3/hw3/lib/python3.10/site-packages/sklearn/metrics/pairwise.py:2317: DataConversionWarning: Data was converted to boolean for metric jaccard\n",
      "  warnings.warn(msg, DataConversionWarning)\n",
      "/Users/gaurav/projects/DM/DM_CSE572/hw3/hw3/lib/python3.10/site-packages/sklearn/metrics/pairwise.py:2317: DataConversionWarning: Data was converted to boolean for metric jaccard\n",
      "  warnings.warn(msg, DataConversionWarning)\n",
      "/Users/gaurav/projects/DM/DM_CSE572/hw3/hw3/lib/python3.10/site-packages/sklearn/metrics/pairwise.py:2317: DataConversionWarning: Data was converted to boolean for metric jaccard\n",
      "  warnings.warn(msg, DataConversionWarning)\n",
      "/Users/gaurav/projects/DM/DM_CSE572/hw3/hw3/lib/python3.10/site-packages/sklearn/metrics/pairwise.py:2317: DataConversionWarning: Data was converted to boolean for metric jaccard\n",
      "  warnings.warn(msg, DataConversionWarning)\n",
      "/Users/gaurav/projects/DM/DM_CSE572/hw3/hw3/lib/python3.10/site-packages/sklearn/metrics/pairwise.py:2317: DataConversionWarning: Data was converted to boolean for metric jaccard\n",
      "  warnings.warn(msg, DataConversionWarning)\n",
      "/Users/gaurav/projects/DM/DM_CSE572/hw3/hw3/lib/python3.10/site-packages/sklearn/metrics/pairwise.py:2317: DataConversionWarning: Data was converted to boolean for metric jaccard\n",
      "  warnings.warn(msg, DataConversionWarning)\n",
      "/Users/gaurav/projects/DM/DM_CSE572/hw3/hw3/lib/python3.10/site-packages/sklearn/metrics/pairwise.py:2317: DataConversionWarning: Data was converted to boolean for metric jaccard\n",
      "  warnings.warn(msg, DataConversionWarning)\n",
      "/Users/gaurav/projects/DM/DM_CSE572/hw3/hw3/lib/python3.10/site-packages/sklearn/metrics/pairwise.py:2317: DataConversionWarning: Data was converted to boolean for metric jaccard\n",
      "  warnings.warn(msg, DataConversionWarning)\n",
      "/Users/gaurav/projects/DM/DM_CSE572/hw3/hw3/lib/python3.10/site-packages/sklearn/metrics/pairwise.py:2317: DataConversionWarning: Data was converted to boolean for metric jaccard\n",
      "  warnings.warn(msg, DataConversionWarning)\n",
      "/Users/gaurav/projects/DM/DM_CSE572/hw3/hw3/lib/python3.10/site-packages/sklearn/metrics/pairwise.py:2317: DataConversionWarning: Data was converted to boolean for metric jaccard\n",
      "  warnings.warn(msg, DataConversionWarning)\n",
      "/Users/gaurav/projects/DM/DM_CSE572/hw3/hw3/lib/python3.10/site-packages/sklearn/metrics/pairwise.py:2317: DataConversionWarning: Data was converted to boolean for metric jaccard\n",
      "  warnings.warn(msg, DataConversionWarning)\n",
      "/Users/gaurav/projects/DM/DM_CSE572/hw3/hw3/lib/python3.10/site-packages/sklearn/metrics/pairwise.py:2317: DataConversionWarning: Data was converted to boolean for metric jaccard\n",
      "  warnings.warn(msg, DataConversionWarning)\n",
      "/Users/gaurav/projects/DM/DM_CSE572/hw3/hw3/lib/python3.10/site-packages/sklearn/metrics/pairwise.py:2317: DataConversionWarning: Data was converted to boolean for metric jaccard\n",
      "  warnings.warn(msg, DataConversionWarning)\n",
      "/Users/gaurav/projects/DM/DM_CSE572/hw3/hw3/lib/python3.10/site-packages/sklearn/metrics/pairwise.py:2317: DataConversionWarning: Data was converted to boolean for metric jaccard\n",
      "  warnings.warn(msg, DataConversionWarning)\n",
      "/Users/gaurav/projects/DM/DM_CSE572/hw3/hw3/lib/python3.10/site-packages/sklearn/metrics/pairwise.py:2317: DataConversionWarning: Data was converted to boolean for metric jaccard\n",
      "  warnings.warn(msg, DataConversionWarning)\n",
      "/Users/gaurav/projects/DM/DM_CSE572/hw3/hw3/lib/python3.10/site-packages/sklearn/metrics/pairwise.py:2317: DataConversionWarning: Data was converted to boolean for metric jaccard\n",
      "  warnings.warn(msg, DataConversionWarning)\n",
      "/Users/gaurav/projects/DM/DM_CSE572/hw3/hw3/lib/python3.10/site-packages/sklearn/metrics/pairwise.py:2317: DataConversionWarning: Data was converted to boolean for metric jaccard\n",
      "  warnings.warn(msg, DataConversionWarning)\n",
      "/Users/gaurav/projects/DM/DM_CSE572/hw3/hw3/lib/python3.10/site-packages/sklearn/metrics/pairwise.py:2317: DataConversionWarning: Data was converted to boolean for metric jaccard\n",
      "  warnings.warn(msg, DataConversionWarning)\n",
      "/Users/gaurav/projects/DM/DM_CSE572/hw3/hw3/lib/python3.10/site-packages/sklearn/metrics/pairwise.py:2317: DataConversionWarning: Data was converted to boolean for metric jaccard\n",
      "  warnings.warn(msg, DataConversionWarning)\n",
      "/Users/gaurav/projects/DM/DM_CSE572/hw3/hw3/lib/python3.10/site-packages/sklearn/metrics/pairwise.py:2317: DataConversionWarning: Data was converted to boolean for metric jaccard\n",
      "  warnings.warn(msg, DataConversionWarning)\n",
      "/Users/gaurav/projects/DM/DM_CSE572/hw3/hw3/lib/python3.10/site-packages/sklearn/metrics/pairwise.py:2317: DataConversionWarning: Data was converted to boolean for metric jaccard\n",
      "  warnings.warn(msg, DataConversionWarning)\n",
      "/Users/gaurav/projects/DM/DM_CSE572/hw3/hw3/lib/python3.10/site-packages/sklearn/metrics/pairwise.py:2317: DataConversionWarning: Data was converted to boolean for metric jaccard\n",
      "  warnings.warn(msg, DataConversionWarning)\n",
      "/Users/gaurav/projects/DM/DM_CSE572/hw3/hw3/lib/python3.10/site-packages/sklearn/metrics/pairwise.py:2317: DataConversionWarning: Data was converted to boolean for metric jaccard\n",
      "  warnings.warn(msg, DataConversionWarning)\n",
      "/Users/gaurav/projects/DM/DM_CSE572/hw3/hw3/lib/python3.10/site-packages/sklearn/metrics/pairwise.py:2317: DataConversionWarning: Data was converted to boolean for metric jaccard\n",
      "  warnings.warn(msg, DataConversionWarning)\n",
      "/Users/gaurav/projects/DM/DM_CSE572/hw3/hw3/lib/python3.10/site-packages/sklearn/metrics/pairwise.py:2317: DataConversionWarning: Data was converted to boolean for metric jaccard\n",
      "  warnings.warn(msg, DataConversionWarning)\n",
      "/Users/gaurav/projects/DM/DM_CSE572/hw3/hw3/lib/python3.10/site-packages/sklearn/metrics/pairwise.py:2317: DataConversionWarning: Data was converted to boolean for metric jaccard\n",
      "  warnings.warn(msg, DataConversionWarning)\n",
      "/Users/gaurav/projects/DM/DM_CSE572/hw3/hw3/lib/python3.10/site-packages/sklearn/metrics/pairwise.py:2317: DataConversionWarning: Data was converted to boolean for metric jaccard\n",
      "  warnings.warn(msg, DataConversionWarning)\n"
     ]
    },
    {
     "name": "stdout",
     "output_type": "stream",
     "text": [
      "[0 0 0 ... 0 0 0]\n"
     ]
    },
    {
     "name": "stderr",
     "output_type": "stream",
     "text": [
      "/Users/gaurav/projects/DM/DM_CSE572/hw3/hw3/lib/python3.10/site-packages/sklearn/metrics/pairwise.py:2317: DataConversionWarning: Data was converted to boolean for metric jaccard\n",
      "  warnings.warn(msg, DataConversionWarning)\n"
     ]
    },
    {
     "data": {
      "text/plain": [
       "{'euclidean': {'labels': array([2, 3, 9, ..., 4, 8, 7]),\n",
       "  'sse': 25321981136.02128},\n",
       " 'cosine': {'labels': array([2, 2, 3, ..., 7, 2, 2]),\n",
       "  'sse': 546.2471268877401},\n",
       " 'jaccard': {'labels': array([0, 0, 0, ..., 0, 0, 0]),\n",
       "  'sse': 550.3072335867188}}"
      ]
     },
     "execution_count": 7,
     "metadata": {},
     "output_type": "execute_result"
    }
   ],
   "source": [
    "# Run K-means with different distance metrics\n",
    "results_final = {}\n",
    "for metric in ['euclidean', 'cosine', 'jaccard']:\n",
    "    kmeans_final = KMeans(n_clusters=n_clusters, distance_metric=metric)\n",
    "    labels, sse = kmeans_final.fit(data)\n",
    "    results_final[metric] = {\"labels\": labels, \"sse\": sse}\n",
    "    print(labels)\n",
    "results_final"
   ]
  },
  {
   "cell_type": "markdown",
   "metadata": {},
   "source": [
    "Based on the SSE values derived:\n",
    "\n",
    "Euclidean-K-means: SSE = 25321981136.02128\n",
    "Cosine-K-means: SSE = 546.25\n",
    "Jaccard-K-means: SSE = 550.31\n",
    "\n",
    "The **Cosine-K-means** method shows the lowest SSE, indicating it performs the best in terms of cluster compactness for dataset.\n",
    "\n",
    "Therefore, based on observations **Cosine-K-means** is better method."
   ]
  },
  {
   "cell_type": "markdown",
   "metadata": {},
   "source": []
  },
  {
   "cell_type": "markdown",
   "metadata": {},
   "source": [
    "**Q2**: Compare the accuracies of Euclidean-K-means Cosine-K-means, Jaccard-K-means. First,\n",
    "label each cluster using the majority vote label of the data points in that cluster. Later, compute\n",
    "the predictive accuracy of Euclidean-K-means, Cosine-K-means, Jaccard-K-means. Which metric is better? (10 points)\n"
   ]
  },
  {
   "cell_type": "code",
   "execution_count": 8,
   "metadata": {},
   "outputs": [],
   "source": [
    "def label_clusters(labels, true_labels, k):\n",
    "    cluster_labels = {}\n",
    "    for i in range(k):\n",
    "        # Find the most common true label in each cluster\n",
    "        labels_in_cluster = true_labels[labels == i]\n",
    "        if len(labels_in_cluster) == 0:\n",
    "            continue\n",
    "        most_common = np.bincount(labels_in_cluster).argmax()\n",
    "        cluster_labels[i] = most_common\n",
    "    return cluster_labels"
   ]
  },
  {
   "cell_type": "code",
   "execution_count": 9,
   "metadata": {},
   "outputs": [],
   "source": [
    "def compute_accuracy(labels, true_labels, cluster_labels):\n",
    "    correct_predictions = 0\n",
    "    for label, true_label in zip(labels, true_labels):\n",
    "        if cluster_labels[label] == true_label:\n",
    "            correct_predictions += 1\n",
    "    return correct_predictions / len(true_labels)"
   ]
  },
  {
   "cell_type": "code",
   "execution_count": 10,
   "metadata": {},
   "outputs": [
    {
     "name": "stdout",
     "output_type": "stream",
     "text": [
      "Accuracy Euclidean: 0.6004600460046005\n",
      "Accuracy Cosine: 0.23932393239323932\n",
      "Accuracy Jaccard: 0.11351135113511351\n"
     ]
    }
   ],
   "source": [
    "# If labels_data is a pandas DataFrame column, ensure it's one-dimensional\n",
    "if labels_data.ndim > 1:\n",
    "    labels_data = labels_data.squeeze()\n",
    "# Convert true labels to numeric form if they are not already\n",
    "true_labels_numeric = pd.factorize(labels_data)[0]\n",
    "\n",
    "# Label each cluster using majority vote for each distance measure\n",
    "cluster_labels_euclidean = label_clusters(results_final['euclidean']['labels'], true_labels_numeric, n_clusters)\n",
    "cluster_labels_cosine = label_clusters(results_final['cosine']['labels'], true_labels_numeric, n_clusters)\n",
    "cluster_labels_jaccard = label_clusters(results_final['jaccard']['labels'], true_labels_numeric, n_clusters)\n",
    "\n",
    "# Compute the predictive accuracy for each distance measure\n",
    "accuracy_euclidean = compute_accuracy(results_final['euclidean']['labels'], true_labels_numeric, cluster_labels_euclidean)\n",
    "accuracy_cosine = compute_accuracy(results_final['cosine']['labels'], true_labels_numeric, cluster_labels_cosine)\n",
    "accuracy_jaccard = compute_accuracy(results_final['jaccard']['labels'], true_labels_numeric, cluster_labels_jaccard)\n",
    "\n",
    "print(\"Accuracy Euclidean:\", accuracy_euclidean)\n",
    "print(\"Accuracy Cosine:\", accuracy_cosine)\n",
    "print(\"Accuracy Jaccard:\", accuracy_jaccard)"
   ]
  },
  {
   "cell_type": "markdown",
   "metadata": {},
   "source": [
    "Based on the results derived, \n",
    "\n",
    "Accuracy Euclidean: 0.6004600460046005\n",
    "Accuracy Cosine: 0.23932393239323932\n",
    "Accuracy Jaccard: 0.11351135113511351\n",
    "\n",
    "Euclidean is better."
   ]
  },
  {
   "cell_type": "markdown",
   "metadata": {},
   "source": []
  },
  {
   "cell_type": "markdown",
   "metadata": {},
   "source": [
    "**Q3:** Set up the same stop criteria: “when there is no change in centroid position OR when the\n",
    "SSE value increases in the next iteration OR when the maximum preset value (e.g., 500, you\n",
    "can set the preset value by yourself) of iteration is complete”, for Euclidean-K-means, Cosine-K-\n",
    "means, Jaccard-K-means. Which method requires more iterations and times to converge? (10\n",
    "points)\n"
   ]
  },
  {
   "cell_type": "code",
   "execution_count": 11,
   "metadata": {},
   "outputs": [],
   "source": [
    "class KMeans_Convergence:\n",
    "    def __init__(self, n_clusters, distance_metric='euclidean', max_iter=500):\n",
    "        self.n_clusters = n_clusters\n",
    "        self.distance_metric = distance_metric\n",
    "        self.max_iter = max_iter\n",
    "        self.centroids = None\n",
    "\n",
    "    def initialize_centroids(self, X):\n",
    "        np.random.seed(42)\n",
    "        if isinstance(X, pd.DataFrame):\n",
    "            X = X.to_numpy()\n",
    "        random_indices = np.random.permutation(X.shape[0])[:self.n_clusters]\n",
    "        self.centroids = X[random_indices]\n",
    "\n",
    "    def compute_distance(self, X):\n",
    "        if self.distance_metric == 'euclidean':\n",
    "            return pairwise_distances(X, self.centroids, metric='euclidean')\n",
    "        elif self.distance_metric == 'cosine':\n",
    "            return 1 - pairwise_distances(X, self.centroids, metric='cosine')\n",
    "        elif self.distance_metric == 'jaccard':\n",
    "            return 1 - pairwise_distances(np.maximum(X, 0), np.maximum(self.centroids, 0), metric='jaccard')\n",
    "\n",
    "    def assign_clusters(self, distances):\n",
    "        return np.argmin(distances, axis=1)\n",
    "\n",
    "    def update_centroids(self, X, labels):\n",
    "        new_centroids = np.zeros(self.centroids.shape)\n",
    "        for i in range(self.n_clusters):\n",
    "            if np.any(labels == i):\n",
    "                new_centroids[i] = X[labels == i].mean(axis=0)\n",
    "        return new_centroids\n",
    "\n",
    "    def compute_sse(self, X, labels):\n",
    "        distances = np.min(self.compute_distance(X), axis=1)\n",
    "        return np.sum(distances**2)\n",
    "\n",
    "    def fit(self, X):\n",
    "        if isinstance(X, pd.DataFrame):\n",
    "            X = X.to_numpy()\n",
    "        self.initialize_centroids(X)\n",
    "        previous_sse = None\n",
    "        for iteration in range(self.max_iter):\n",
    "            distances = self.compute_distance(X)\n",
    "            labels = self.assign_clusters(distances)\n",
    "            new_centroids = self.update_centroids(X, labels)\n",
    "            sse = self.compute_sse(X, labels)\n",
    "\n",
    "            if np.allclose(self.centroids, new_centroids, atol=1e-4) or (previous_sse is not None and sse > previous_sse):\n",
    "                break\n",
    "            self.centroids = new_centroids\n",
    "            previous_sse = sse\n",
    "\n",
    "        return labels, sse, iteration + 1\n"
   ]
  },
  {
   "cell_type": "code",
   "execution_count": 12,
   "metadata": {},
   "outputs": [
    {
     "name": "stderr",
     "output_type": "stream",
     "text": [
      "/Users/gaurav/projects/DM/DM_CSE572/hw3/hw3/lib/python3.10/site-packages/sklearn/metrics/pairwise.py:2317: DataConversionWarning: Data was converted to boolean for metric jaccard\n",
      "  warnings.warn(msg, DataConversionWarning)\n",
      "/Users/gaurav/projects/DM/DM_CSE572/hw3/hw3/lib/python3.10/site-packages/sklearn/metrics/pairwise.py:2317: DataConversionWarning: Data was converted to boolean for metric jaccard\n",
      "  warnings.warn(msg, DataConversionWarning)\n",
      "/Users/gaurav/projects/DM/DM_CSE572/hw3/hw3/lib/python3.10/site-packages/sklearn/metrics/pairwise.py:2317: DataConversionWarning: Data was converted to boolean for metric jaccard\n",
      "  warnings.warn(msg, DataConversionWarning)\n",
      "/Users/gaurav/projects/DM/DM_CSE572/hw3/hw3/lib/python3.10/site-packages/sklearn/metrics/pairwise.py:2317: DataConversionWarning: Data was converted to boolean for metric jaccard\n",
      "  warnings.warn(msg, DataConversionWarning)\n"
     ]
    },
    {
     "data": {
      "text/plain": [
       "{'euclidean': {'labels': array([2, 3, 9, ..., 4, 8, 7]),\n",
       "  'sse': 25321981136.02128,\n",
       "  'iterations': 66,\n",
       "  'time_taken': 6.093734979629517},\n",
       " 'cosine': {'labels': array([1, 1, 1, ..., 1, 1, 1]),\n",
       "  'sse': 0.0,\n",
       "  'iterations': 500,\n",
       "  'time_taken': 46.23327112197876},\n",
       " 'jaccard': {'labels': array([8, 5, 8, ..., 0, 5, 8]),\n",
       "  'sse': 462.04767139500063,\n",
       "  'iterations': 2,\n",
       "  'time_taken': 0.6264011859893799}}"
      ]
     },
     "execution_count": 12,
     "metadata": {},
     "output_type": "execute_result"
    }
   ],
   "source": [
    "import time\n",
    "# Run KMeans_Convergence with different distance metrics\n",
    "results_convergence = {}\n",
    "for metric in ['euclidean', 'cosine', 'jaccard']:\n",
    "    kmeans_final = KMeans_Convergence(n_clusters=n_clusters, distance_metric=metric)\n",
    "    start_time = time.time()  # Start time\n",
    "    labels, sse, iterations = kmeans_final.fit(data)\n",
    "    end_time = time.time()  # End time\n",
    "    time_taken = end_time - start_time  # Calculate time taken\n",
    "    results_convergence[metric] = {\"labels\": labels, \"sse\": sse, \"iterations\": iterations, \"time_taken\": time_taken}\n",
    "results_convergence"
   ]
  },
  {
   "cell_type": "markdown",
   "metadata": {},
   "source": [
    "Based on the results, \n",
    "\n",
    "**cosine takes more time and iterations to converge**"
   ]
  },
  {
   "cell_type": "markdown",
   "metadata": {},
   "source": []
  },
  {
   "cell_type": "markdown",
   "metadata": {},
   "source": [
    "**Q4:** Compare the SSEs of Euclidean-K-means Cosine-K-means, Jaccard-K-means with respect to\n",
    "the following three terminating conditions: (10 points)\n",
    "• when there is no change in centroid position\n",
    "• when the SSE value increases in the next iteration\n",
    "• when the maximum preset value (e.g., 100) of iteration is complete\n"
   ]
  },
  {
   "cell_type": "code",
   "execution_count": 13,
   "metadata": {},
   "outputs": [],
   "source": [
    "import numpy as np\n",
    "from sklearn.metrics import pairwise_distances\n",
    "import time\n",
    "\n",
    "class KMeansConditional:\n",
    "    def __init__(self, n_clusters, distance_metric='euclidean', max_iter=100):\n",
    "        self.n_clusters = n_clusters\n",
    "        self.distance_metric = distance_metric\n",
    "        self.max_iter = max_iter\n",
    "        self.centroids = None\n",
    "\n",
    "    def initialize_centroids(self, X):\n",
    "        np.random.seed(42)\n",
    "        if isinstance(X, pd.DataFrame):\n",
    "            X = X.to_numpy()\n",
    "        random_indices = np.random.permutation(X.shape[0])[:self.n_clusters]\n",
    "        self.centroids = X[random_indices]\n",
    "\n",
    "    def compute_distance(self, X):\n",
    "        if self.distance_metric == 'euclidean':\n",
    "                return pairwise_distances(X, self.centroids, metric='euclidean')\n",
    "        elif self.distance_metric == 'cosine':\n",
    "            return 1 - pairwise_distances(X, self.centroids, metric='cosine')\n",
    "        elif self.distance_metric == 'jaccard':\n",
    "            return 1 - pairwise_distances(np.maximum(X, 0), np.maximum(self.centroids, 0), metric='jaccard')\n",
    "\n",
    "    def assign_clusters(self, distances):\n",
    "        return np.argmin(distances, axis=1)\n",
    "\n",
    "    def update_centroids(self, X, labels):\n",
    "        new_centroids = np.zeros(self.centroids.shape)\n",
    "        for i in range(self.n_clusters):\n",
    "            cluster_points = X[labels == i]\n",
    "            if len(cluster_points) > 0:\n",
    "                new_centroids[i] = cluster_points.mean(axis=0)\n",
    "        return new_centroids\n",
    "\n",
    "    def compute_sse(self, X, labels):\n",
    "        distances = np.min(self.compute_distance(X), axis=1)\n",
    "        return np.sum(distances ** 2)\n",
    "\n",
    "    def fit(self, X):\n",
    "        if isinstance(X, pd.DataFrame):\n",
    "            X = X.to_numpy()\n",
    "        self.initialize_centroids(X)\n",
    "        previous_sse = None\n",
    "        no_change_count = 0\n",
    "        for iteration in range(self.max_iter):\n",
    "            distances = self.compute_distance(X)\n",
    "            labels = self.assign_clusters(distances)\n",
    "            new_centroids = self.update_centroids(X, labels)\n",
    "            sse = self.compute_sse(X, labels)\n",
    "\n",
    "            if np.allclose(self.centroids, new_centroids, atol=1e-4):\n",
    "                no_change_count += 1\n",
    "            else:\n",
    "                no_change_count = 0  # Reset count if there's a change\n",
    "\n",
    "            if no_change_count > 1 or (previous_sse is not None and sse > previous_sse):\n",
    "                break\n",
    "\n",
    "            self.centroids = new_centroids\n",
    "            previous_sse = sse\n",
    "\n",
    "        return labels, sse, iteration + 1"
   ]
  },
  {
   "cell_type": "code",
   "execution_count": 14,
   "metadata": {},
   "outputs": [
    {
     "name": "stderr",
     "output_type": "stream",
     "text": [
      "/Users/gaurav/projects/DM/DM_CSE572/hw3/hw3/lib/python3.10/site-packages/sklearn/metrics/pairwise.py:2317: DataConversionWarning: Data was converted to boolean for metric jaccard\n",
      "  warnings.warn(msg, DataConversionWarning)\n",
      "/Users/gaurav/projects/DM/DM_CSE572/hw3/hw3/lib/python3.10/site-packages/sklearn/metrics/pairwise.py:2317: DataConversionWarning: Data was converted to boolean for metric jaccard\n",
      "  warnings.warn(msg, DataConversionWarning)\n",
      "/Users/gaurav/projects/DM/DM_CSE572/hw3/hw3/lib/python3.10/site-packages/sklearn/metrics/pairwise.py:2317: DataConversionWarning: Data was converted to boolean for metric jaccard\n",
      "  warnings.warn(msg, DataConversionWarning)\n",
      "/Users/gaurav/projects/DM/DM_CSE572/hw3/hw3/lib/python3.10/site-packages/sklearn/metrics/pairwise.py:2317: DataConversionWarning: Data was converted to boolean for metric jaccard\n",
      "  warnings.warn(msg, DataConversionWarning)\n"
     ]
    },
    {
     "data": {
      "text/plain": [
       "{'euclidean': {'SSE': 25321981136.02128, 'iterations': 67},\n",
       " 'cosine': {'SSE': 0.0, 'iterations': 100},\n",
       " 'jaccard': {'SSE': 462.04767139500063, 'iterations': 2}}"
      ]
     },
     "execution_count": 14,
     "metadata": {},
     "output_type": "execute_result"
    }
   ],
   "source": [
    "results_conditional = {}\n",
    "for metric in ['euclidean', 'cosine', 'jaccard']:\n",
    "    kmeans = KMeansConditional(n_clusters=n_clusters, distance_metric=metric, max_iter=100)\n",
    "    labels, sse, iterations = kmeans.fit(data)\n",
    "    results_conditional[metric] = {\"SSE\": sse, \"iterations\": iterations}\n",
    "\n",
    "results_conditional"
   ]
  },
  {
   "cell_type": "markdown",
   "metadata": {},
   "source": [
    "**Q5:** What are your summary observations or takeaways based on your algorithmic analysis? (5\n",
    "points)\n",
    "\n",
    "**Answer-:**\n",
    "Euclidean has very high SSE, cosine is nearly 0 and jaccard is moderate. This shows that there is significant difference in compactness of clusters using different methods.\n",
    "Euclidean has moderate iterations, cosine takes a long time while jaccard converges very quickly. \n",
    "Euclidean has better accuracy than Cosine and Jaccard.\n",
    "Cosine is time consuming and Jaccard is the fastest. But Euclidean yields better results.\n",
    "Euclidean appears to be more suitable for the dataset than any other methods.\n",
    "\n",
    "**In Conclusion, despite higher SSE, Euclidean offers better results, moderate convergence and iterations, making it the best choice for this dataset.**\n"
   ]
  }
 ],
 "metadata": {
  "kernelspec": {
   "display_name": "hw3",
   "language": "python",
   "name": "python3"
  },
  "language_info": {
   "codemirror_mode": {
    "name": "ipython",
    "version": 3
   },
   "file_extension": ".py",
   "mimetype": "text/x-python",
   "name": "python",
   "nbconvert_exporter": "python",
   "pygments_lexer": "ipython3",
   "version": "3.10.6"
  }
 },
 "nbformat": 4,
 "nbformat_minor": 2
}
